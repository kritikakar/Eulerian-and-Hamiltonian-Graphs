{
 "cells": [
  {
   "cell_type": "markdown",
   "id": "082b1ef6",
   "metadata": {
    "deletable": false,
    "editable": false,
    "nbgrader": {
     "cell_type": "markdown",
     "checksum": "9af28f57087e26988c1ec0a089d6c4d7",
     "grade": false,
     "grade_id": "cell-8221f08af4dabf70",
     "locked": true,
     "schema_version": 3,
     "solution": false,
     "task": false
    }
   },
   "source": [
    "# Eulerian and Hamiltonian Graphs"
   ]
  },
  {
   "cell_type": "markdown",
   "id": "af4899f0",
   "metadata": {
    "deletable": false,
    "editable": false,
    "nbgrader": {
     "cell_type": "markdown",
     "checksum": "fcb0e530dae662569cbac6d9f57afe14",
     "grade": false,
     "grade_id": "cell-1a0173daa83f7010",
     "locked": true,
     "schema_version": 3,
     "solution": false,
     "task": false
    }
   },
   "source": [
    "In 1736, Leonhard Euler showed that there was no way to travel across the [Seven Bridges of Königsberg](https://en.wikipedia.org/wiki/Seven_Bridges_of_K%C3%B6nigsberg), crossing each bridge a single time and ending up where you started. He did this by showing that there is no *Eulerian circuit* in a graph representing the city, where vertices represent landmasses and edges represent bridges between them. This established the first result in graph theory.\n",
    "\n",
    "More precisely, an *Eulerian circuit* is a cycle $v_1, v_2, \\ldots, v_k = v_1$ such that every edge of the graph appears as $\\{v_i, v_{i+1}\\}$ for some $1 \\leq i \\leq k$, and no edge is repeated. In other words, it is a cycle which contains every edge of the graph precisely once. You can think about this as some way of travelling around the graph, crossing each edge precisely once. Note that this does **not** mean that each vertex has to be visited precisely once (or even at all!)\n",
    "\n",
    "We say that a graph is *Eulerian* if there is some Eulerian circuit in the graph.\n",
    "\n",
    "Euler's realisation was that the existence of an Eulerian circuit is related to the degrees of the vertices."
   ]
  },
  {
   "cell_type": "markdown",
   "id": "aa6d079f",
   "metadata": {
    "deletable": false,
    "editable": false,
    "nbgrader": {
     "cell_type": "markdown",
     "checksum": "837b694441d58ea5e989c883537a38af",
     "grade": false,
     "grade_id": "cell-6f1a9cc305e78da1",
     "locked": true,
     "schema_version": 3,
     "solution": false,
     "task": false
    }
   },
   "source": [
    "\n",
    "***Theorem:*** a graph has an Eulerian circuit if and only if every vertex has even degree, and all of the vertices of positive degree are in one connected component."
   ]
  },
  {
   "cell_type": "markdown",
   "id": "9f31c68c",
   "metadata": {
    "deletable": false,
    "editable": false,
    "nbgrader": {
     "cell_type": "markdown",
     "checksum": "5ddd9f9f754c25fb19dc4926616a1a8c",
     "grade": false,
     "grade_id": "Q1-task",
     "locked": true,
     "points": 0,
     "schema_version": 3,
     "solution": false,
     "task": true
    }
   },
   "source": [
    "One of the proofs of the theorem above is constructive; it defines an algorithm and then shows that the algorithm outputs an Eulerian circuit given the hypotheses of the theorem. The algorithm is as follows:\n",
    "\n",
    "```\n",
    "1. Initialise a stack of vertices: pick a vertex u in G, and set stack = [u]\n",
    "2. Initialise an output circuit: set circuit = []\n",
    "3. While the stack is not empty:\n",
    "    4. Call the last element in the stack current_vertex.\n",
    "    5. If there are any edges from current_vertex that haven't already been considered:\n",
    "        6: Pick one such edge {current_vertex, neighbour}.\n",
    "        7. Note that this edge cannot be used again (from either direction).\n",
    "        8. Append neighbour to the stack.\n",
    "    9. Otherwise, if there are no such edges, then pop current_vertex from the stack and append it to circuit.\n",
    "10. Return circuit.\n",
    "```\n",
    "The algorithm above finds an Eulerian circuit in a *connected* graph if it has one.\n",
    "\n",
    "-  Implement this algorithm as a function `eulerian_circuit`.\n",
    "\n",
    "-  Describe the theoretical worst-case complexity of `eulerian_circuit`, using appropriate parameters for the input size. Is it possible for any algorithm for finding an Eulerian circuit in a connected graph to have a better worse-case complexity than this?"
   ]
  },
  {
   "cell_type": "code",
   "execution_count": 3,
   "id": "656b14fd",
   "metadata": {
    "ExecuteTime": {
     "end_time": "2023-03-23T19:00:31.483853Z",
     "start_time": "2023-03-23T19:00:31.472770Z"
    },
    "nbgrader": {
     "cell_type": "code",
     "checksum": "03307133e3ac4281580e1c3333147692",
     "grade": false,
     "grade_id": "Q1a-answer",
     "locked": false,
     "schema_version": 3,
     "solution": true,
     "task": false
    },
    "run_control": {
     "marked": true
    }
   },
   "outputs": [
    {
     "data": {
      "text/plain": [
       "[0, 3, 1, 4, 3, 2, 1, 0]"
      ]
     },
     "execution_count": 3,
     "metadata": {},
     "output_type": "execute_result"
    }
   ],
   "source": [
    "import networkx as nx\n",
    "import matplotlib.pyplot as plt\n",
    "\n",
    "# first example graph\n",
    "\n",
    "G1 = nx.Graph([{0, 1}, {1, 2}, {2, 3}, {3, 4}, {4, 1}, {1, 3}, {0, 3}])\n",
    "\n",
    "def eulerian_circuit(G):\n",
    "    \n",
    "    # initializing the vertices, stack, and circuit and setting the first vertex to be u\n",
    "    \n",
    "    vertices = list(G.nodes())\n",
    "\n",
    "    u = vertices[0]\n",
    "    stack = [u]\n",
    "    seen_edges = []\n",
    "\n",
    "    circuit = []\n",
    "    \n",
    "    # checking if all vertices have even degree i.e. if graph is Eulerian\n",
    "\n",
    "    vertices = list(G.nodes())\n",
    "    degree = [0]*len(vertices)\n",
    "\n",
    "    for i in vertices:\n",
    "        degree[i] = G.degree(i)\n",
    "\n",
    "    even_degree = all(deg % 2 == 0 for deg in degree)\n",
    "    \n",
    "    if not even_degree:\n",
    "        return None\n",
    "    \n",
    "    # if graph is Eulerian\n",
    "\n",
    "    while stack:\n",
    "        current_vertex = stack[-1]\n",
    "        neighbours = G[current_vertex]\n",
    "        \n",
    "        # creating a list for all the edges\n",
    "        \n",
    "        edges = []\n",
    "        \n",
    "        for i in neighbours:\n",
    "            edge = {current_vertex, i}\n",
    "            reverse_edge = {i, current_vertex}\n",
    "            \n",
    "            # checking if the edge has already been seen from both directions\n",
    "            \n",
    "            if edge not in seen_edges or reverse_edge not in seen_edges:\n",
    "                edges.append(edge)\n",
    "                \n",
    "            # if there are any edges remaining, pick an edge and add neighbour to the stack\n",
    "            \n",
    "        if len(edges) > 0:\n",
    "            chosen_edge = edges[0]\n",
    "            seen_edges.append(chosen_edge)\n",
    "            neighbour = (chosen_edge - {current_vertex}).pop()\n",
    "            stack.append(neighbour)\n",
    "            \n",
    "            # if no edges left, add the current edge to the circuit\n",
    "            \n",
    "        else:\n",
    "            a = stack.pop()\n",
    "            circuit.append(a)\n",
    "    \n",
    "    if circuit == []:\n",
    "        return None\n",
    "    return circuit\n",
    "\n",
    "eulerian_circuit(G1)"
   ]
  },
  {
   "cell_type": "markdown",
   "id": "75c0e30a",
   "metadata": {
    "nbgrader": {
     "cell_type": "markdown",
     "checksum": "52c59f58cbb46bb10dbecc4066fca7da",
     "grade": true,
     "grade_id": "Q1b-answer",
     "locked": false,
     "points": 0,
     "schema_version": 3,
     "solution": true,
     "task": false
    }
   },
   "source": [
    "*Answer:*\n",
    "\n",
    "*The theoretical worst-case complexity of `eulerian_circuit` is O(E), where E is the number of edges. This is because the time taken to find the Eulerian circuit is proportional to the number of edges in the graph, but the traversal time for each edge is independent of the number of edges. The function traverses each edge when checking if it has already been seen and once while adding to the `seen_edges` list. Thus, in the worst case scenario, each edge will be considered twice.*\n",
    "\n",
    "*It is not possible for any algorithm to find a Eulerian circuit in a connected graph to have a better worst case complexity than this. Finding a Eulerian circuit requires each edge to be considered at least once. Thus, any such function would have at least O(E) worst-case time complexity.*"
   ]
  },
  {
   "cell_type": "markdown",
   "id": "536fa5cd",
   "metadata": {
    "deletable": false,
    "editable": false,
    "nbgrader": {
     "cell_type": "markdown",
     "checksum": "cb4277ab7210901b8367db590ee766b0",
     "grade": false,
     "grade_id": "Q2-task",
     "locked": true,
     "points": 0,
     "schema_version": 3,
     "solution": false,
     "task": true
    }
   },
   "source": [
    "In order to apply the theorem, we need to be able to check whether all of the positive-degree vertices are connected. One way of doing this is to start a traversal from any positive-degree vertex, and check if it visits all of the others.\n",
    "\n",
    "\n",
    "- Implement a function `all_positive_degree_vertices_connected` which takes a `networkx` `Graph` and returns `True` if all vertices of positive degree are connected, and `False` otherwise. This should use a depth-first or breadth-first traversal.\n",
    "\n",
    "- Describe the complexity of deciding whether a graph is Eulerian using:\n",
    "    1. A combination of the functions `eulerian_circuit` and `all_positive_degree_vertices_connected` (i.e. testing whether `eulerian_circuit` returns `None` or `all_positive_degree_vertices_connected` returns `False`).    \n",
    "    2. Directly applying the characterisation using degrees as described in the introduction.\n",
    "    - In other words, answer the question \"*can we achieve a better theoretical complexity using the theorem above if we only want to **decide** whether there is an Eulerian circuit, rather than find one*?\"\n",
    "\n"
   ]
  },
  {
   "cell_type": "code",
   "execution_count": 2,
   "id": "2a2306da",
   "metadata": {
    "ExecuteTime": {
     "end_time": "2023-03-23T19:00:31.519355Z",
     "start_time": "2023-03-23T19:00:31.502543Z"
    },
    "nbgrader": {
     "cell_type": "code",
     "checksum": "6c276da88b5471a22678804b952d3fd2",
     "grade": false,
     "grade_id": "Q2a-answer",
     "locked": false,
     "schema_version": 3,
     "solution": true,
     "task": false
    },
    "run_control": {
     "marked": true
    }
   },
   "outputs": [
    {
     "data": {
      "text/plain": [
       "(True, False)"
      ]
     },
     "execution_count": 2,
     "metadata": {},
     "output_type": "execute_result"
    }
   ],
   "source": [
    "import networkx as nx\n",
    "import matplotlib.pyplot as plt\n",
    "from collections import deque\n",
    "\n",
    "# second example graph\n",
    "\n",
    "G2 = nx.Graph([{0, 1}, {1, 2}, {2, 3}, {3, 4}, {4, 1}, {1, 3}, {0, 3}])\n",
    "G2.add_nodes_from(range(5, 8))\n",
    "\n",
    "def all_positive_degree_vertices_connected(G):\n",
    "    \n",
    "    # initializing to perform breadth first traversal\n",
    "    \n",
    "    seen = set()\n",
    "    queue = deque()\n",
    "    vertices = list(G.nodes())\n",
    "    \n",
    "    #obtaining a list of the positive degree vertices\n",
    "    \n",
    "    positive_degree = vertices\n",
    "    for i in positive_degree:\n",
    "        if G.degree(i) <= 0:\n",
    "            positive_degree.remove(i)\n",
    "            \n",
    "    # initializing the queue\n",
    "    \n",
    "    u = vertices[0]\n",
    "    queue.append(u)\n",
    "    \n",
    "    while queue:\n",
    "        current_vertex = queue.popleft()\n",
    "        \n",
    "        # checking if the vertex has been seen before\n",
    "        \n",
    "        if current_vertex not in seen:\n",
    "            seen.add(current_vertex)            \n",
    "            neighbours = G[current_vertex]\n",
    "            \n",
    "            # marking all neighbours as seen\n",
    "            \n",
    "            for i in neighbours:\n",
    "                if i not in seen and i not in queue:\n",
    "                    queue.append(i)\n",
    "                    \n",
    "    # checking if all positive degree vertices have been seen\n",
    "                    \n",
    "    if set(positive_degree)==set(seen):\n",
    "        return True\n",
    "        \n",
    "    return False\n",
    "\n",
    "all_positive_degree_vertices_connected(G1), all_positive_degree_vertices_connected(G2)"
   ]
  },
  {
   "cell_type": "markdown",
   "id": "9d8fb69c",
   "metadata": {
    "nbgrader": {
     "cell_type": "markdown",
     "checksum": "7e8ac9e57547827045c154cc5a5104c0",
     "grade": true,
     "grade_id": "Q2b-answer",
     "locked": false,
     "points": 0,
     "schema_version": 3,
     "solution": true,
     "task": false
    }
   },
   "source": [
    "*Answer:*\n",
    "\n",
    "*The `all_positive_degree_vertices_connected` function uses a breadth first traversal starting from one vertex to check whether all vertices with positive degree are connected. In the worst case, each vertex and each edge is visited once, and each vertex is visited once again while checking whether all positive degree vertices have been seen. Thus, it has overall time complexity O(V+E), where V is the number of vertices and E is the number of edges in the graph.*\n",
    "\n",
    "*1. A combination of the two functions `eulerian_circuit` and `all_positive_degree_vertices_connected` would have a worst case time complexity of O(E)+O(V+E), which is simply O(V+E). This is when both functions need to be considered and are implemented sequentially.*\n",
    "\n",
    "\n",
    "*2. Only deciding whether a graph is Eulerian or not using the fact that Eulerian graphs have vertices with even degree has time complexity O(V). This is because it considered every vertex once while calculating its degree, and once more while deciding whether the degree is even. Thus, simply deciding if a graph is Eulerian has better time complexity than finding a Eulerian circuit.*   "
   ]
  },
  {
   "cell_type": "markdown",
   "id": "f396d89e",
   "metadata": {
    "deletable": false,
    "editable": false,
    "nbgrader": {
     "cell_type": "markdown",
     "checksum": "3625061984a7997e9e0539339d6a0d88",
     "grade": false,
     "grade_id": "Q3-task",
     "locked": true,
     "points": 0,
     "schema_version": 3,
     "solution": false,
     "task": true
    }
   },
   "source": [
    "In the same way that an *Eulerian* cycle is one which contains every edge precisely once, a *Hamiltonian* cycle is one which contains every *vertex* precisely once (apart from whichever vertex is picked to be \"first\", which must be visited twice to obtain a cycle). Determinining whether a graph is *Hamiltonian* (contains a Hamiltonian cycle) is significantly harder than determining whether it is Eulerian. In particular, it is NP-complete.\n",
    "\n",
    "\n",
    "- Implement a function `hamiltonian_cycle` which uses a backtrack search to find a Hamiltonian cycle in a graph, if one exists.\n",
    "- Use your function to find a Hamiltonian cycle in the Hoffman-Singleton graph.\n",
    "\n",
    "Details:\n",
    "1. Your function should return `None` if the graph is not Hamiltonian.\n",
    "2. You should return a `list` of vertices representing the cycle; the first vertex in the list should also appear at the end to close the cycle."
   ]
  },
  {
   "cell_type": "code",
   "execution_count": 4,
   "id": "ca92edc7",
   "metadata": {
    "ExecuteTime": {
     "end_time": "2023-03-23T19:00:31.561403Z",
     "start_time": "2023-03-23T19:00:31.536986Z"
    },
    "nbgrader": {
     "cell_type": "code",
     "checksum": "a839d94addaa0a4fa386311c437687da",
     "grade": false,
     "grade_id": "Q3-answer",
     "locked": false,
     "schema_version": 3,
     "solution": true,
     "task": false
    },
    "run_control": {
     "marked": true
    }
   },
   "outputs": [
    {
     "data": {
      "text/plain": [
       "[5,\n",
       " 3,\n",
       " 0,\n",
       " 1,\n",
       " 17,\n",
       " 4,\n",
       " 11,\n",
       " 2,\n",
       " 10,\n",
       " 18,\n",
       " 6,\n",
       " 22,\n",
       " 13,\n",
       " 30,\n",
       " 19,\n",
       " 7,\n",
       " 34,\n",
       " 15,\n",
       " 35,\n",
       " 25,\n",
       " 9,\n",
       " 32,\n",
       " 23,\n",
       " 14,\n",
       " 31,\n",
       " 12,\n",
       " 36,\n",
       " 8,\n",
       " 33,\n",
       " 16,\n",
       " 39,\n",
       " 28,\n",
       " 20,\n",
       " 37,\n",
       " 29,\n",
       " 21,\n",
       " 40,\n",
       " 41,\n",
       " 24,\n",
       " 38,\n",
       " 26,\n",
       " 42,\n",
       " 43,\n",
       " 44,\n",
       " 27,\n",
       " 47,\n",
       " 45,\n",
       " 46,\n",
       " 49,\n",
       " 48,\n",
       " 5]"
      ]
     },
     "execution_count": 4,
     "metadata": {},
     "output_type": "execute_result"
    }
   ],
   "source": [
    "import networkx as nx\n",
    "import matplotlib.pyplot as plt\n",
    "\n",
    "def consistency_check(G, path):\n",
    "    vertices = list(G.nodes())\n",
    "    n = len(vertices) \n",
    "    \n",
    "    # checks that there are no repeated vertices in the path\n",
    "    \n",
    "    if len(set(path)) == len(path):\n",
    "        return True\n",
    "    return False\n",
    "\n",
    "\n",
    "def hamiltonian_cycle(G):\n",
    "    \n",
    "    # initializing the path\n",
    "    \n",
    "    vertices = list(G.nodes())\n",
    "    n = len(vertices) \n",
    "    path = []\n",
    "    \n",
    "    # creating the backtracking inner function\n",
    "\n",
    "    def dive():\n",
    "        \n",
    "    # checking if the path is a full Hamiltonian cycle: if every vertex appears once and length of path is equal to number of vertices\n",
    "    \n",
    "        if len(path) == n:\n",
    "            if consistency_check(G, path):\n",
    "                return path\n",
    "            return None\n",
    "            \n",
    "        # modifying the path using adjacent vertices that have not been seen before\n",
    "        \n",
    "        neighbours = G[path[-1]]\n",
    "        \n",
    "        for i in neighbours:\n",
    "            if G.has_edge(i, path[-1]):\n",
    "                if i not in path:\n",
    "                \n",
    "                # if the solution is consistent, returning dive() and if not, removing this vertex from the path \n",
    "                \n",
    "                    path.append(i)\n",
    "                    if consistency_check(G, path):\n",
    "                        res = dive()\n",
    "                        if res is not None:\n",
    "                            return res\n",
    "                    path.pop\n",
    "                    \n",
    "        return None\n",
    "    \n",
    "    # trying a path from every vertex\n",
    "    \n",
    "    for v in vertices:\n",
    "        path = [v]\n",
    "        res = dive()\n",
    "        \n",
    "        # completing the cycle if the path is Hamiltonian\n",
    "        \n",
    "        if res is not None and G.has_edge(res[0],res[-1]):\n",
    "            \n",
    "            res.append(res[0])\n",
    "            return res\n",
    "        \n",
    "    return None        \n",
    "\n",
    "# checking the function with the Hoffman Singleton graph\n",
    "\n",
    "G3 = nx.hoffman_singleton_graph()\n",
    "\n",
    "res = hamiltonian_cycle(G3)\n",
    "\n",
    "res\n",
    "\n",
    "# Thus, the Hoffman Singleton graph is Hamiltonian and one Hamiltonian cycle is given by 'res'."
   ]
  },
  {
   "cell_type": "code",
   "execution_count": 5,
   "id": "7e77ac06",
   "metadata": {
    "ExecuteTime": {
     "end_time": "2023-03-23T19:00:31.605836Z",
     "start_time": "2023-03-23T19:00:31.576649Z"
    }
   },
   "outputs": [
    {
     "data": {
      "text/plain": [
       "(True,\n",
       " True,\n",
       " 'The graph definitely has both a Eulerian circuit and a Hamiltonian Cycle',\n",
       " True,\n",
       " False,\n",
       " False)"
      ]
     },
     "execution_count": 5,
     "metadata": {},
     "output_type": "execute_result"
    }
   ],
   "source": [
    "# creating a function to see if the graph is connected\n",
    "\n",
    "import networkx as nx\n",
    "import matplotlib.pyplot as plt\n",
    "from collections import deque\n",
    "\n",
    "def all_vertices_connected(G):\n",
    "    \n",
    "    #initializing to perform breadth first traversal\n",
    "    \n",
    "    seen = set()\n",
    "    queue = deque()\n",
    "    vertices = list(G.nodes())\n",
    "   \n",
    "    u = vertices[0]\n",
    "    queue.append(u)\n",
    "    \n",
    "    while queue:\n",
    "        current_vertex = queue.popleft()\n",
    "        \n",
    "        #checking if the vertex has been seen before\n",
    "        \n",
    "        if current_vertex not in seen:\n",
    "            seen.add(current_vertex)            \n",
    "            neighbours = G[current_vertex]\n",
    "            \n",
    "            #marking all neighbours as seen\n",
    "            \n",
    "            for i in neighbours:\n",
    "                if i not in seen and i not in queue:\n",
    "                    queue.append(i)\n",
    "                    \n",
    "    #checking if all vertices have been seen\n",
    "    \n",
    "    if set(vertices)==set(seen):\n",
    "        return True\n",
    "    return False\n",
    "\n",
    "# creating a function to check if a graph is eulerian\n",
    "    \n",
    "def is_eulerian(G):\n",
    "    \n",
    "    # using the functions described above, easy to check if the graph has a Eulerian circuit\n",
    "    \n",
    "    # all vertices should be connected\n",
    "    \n",
    "    if not all_vertices_connected(G):\n",
    "        return False\n",
    "    \n",
    "    vertices = list(G.nodes())\n",
    "    n = len(vertices)\n",
    "    degree = [0]*len(vertices)\n",
    "\n",
    "    for i in vertices:\n",
    "        degree[i] = G.degree(i)\n",
    "\n",
    "    even_degree = all(deg % 2 == 0 for deg in degree)\n",
    "    \n",
    "    if not even_degree:\n",
    "        return False\n",
    "    return True\n",
    "    \n",
    "def eulerian_hamiltonian(G):\n",
    "    \n",
    "    vertices = list(G.nodes())\n",
    "    n = len(vertices)\n",
    "    degree = [0]*len(vertices)\n",
    "\n",
    "    for i in vertices:\n",
    "        degree[i] = G.degree(i)\n",
    "    \n",
    "    if not is_eulerian(G):\n",
    "        return False\n",
    "    \n",
    "    # cannot be Hamiltonian if vertices are less than 3\n",
    "    \n",
    "    if n < 3:\n",
    "        return False\n",
    "    \n",
    "    # Dirac's theorem\n",
    "    \n",
    "    a = all(deg >= n/2 for deg in degree)\n",
    "        \n",
    "    # Ore's theorem\n",
    "    \n",
    "    for i in vertices:\n",
    "        for j in vertices:\n",
    "            if i != j and not G.has_edge(i, j):\n",
    "                if degree[i]+degree[j] < n:\n",
    "                    b = False\n",
    "            else:\n",
    "                b = True\n",
    "                \n",
    "    # Returning False if neither of these conditions are satisfied\n",
    "    \n",
    "    if not a and not b:\n",
    "        return False\n",
    "    \n",
    "    return (\"The graph definitely has both a Eulerian circuit and a Hamiltonian Cycle\")\n",
    "    \n",
    "G4 = nx.complete_graph(9)\n",
    "T4 = nx.from_graph6_bytes(b\"Y????????????????????????????w?F?o??o??GW?@?W?A?B?Q?K?`?\")\n",
    "\n",
    "all_vertices_connected(G4), is_eulerian(G4), eulerian_hamiltonian(G4), all_vertices_connected(T4), is_eulerian(T4), eulerian_hamiltonian(T4)\n"
   ]
  },
  {
   "cell_type": "markdown",
   "id": "dd27ecc1",
   "metadata": {
    "nbgrader": {
     "cell_type": "markdown",
     "checksum": "78f18176a76f4dc370795a2070097f9a",
     "grade": true,
     "grade_id": "Q4-answer",
     "locked": false,
     "points": 0,
     "schema_version": 3,
     "solution": true,
     "task": false
    }
   },
   "source": [
    "*A Eulerian circuit is a Eulerian path that starts and ends at the same vertex. A graph has a Eulerian circuit if and only if the graph is connected and all vertices in the graph have even degree. A graph does not contain a Eulerian or Hamiltonian circuit if it has less than three vertices.*\n",
    "\n",
    "*Dirac's theorem states that an n-vertex graph in which each vertex has degree at least n/2 must have a Hamiltonian cycle. Ore's theorem states that if a graph has n ≥ 3 vertices, and for each pair of non-adjacent vertices u and v the sum of degrees of u and v ≥ n, then the graph is Hamiltonian.*\n",
    "\n",
    "*The function `all_vertices_connected` first checks if the graph is connected or not and is a modified version of the function from part 2. The function `is_eulerian` first checks if a graph is connected and then checks if it is Eulerian using the conditions specified above.*\n",
    "\n",
    "*The function `eulerian_hamiltonian` first verifies that a graph is connected and Eulerian. It then uses Dirac's theorem and Ore's theorem and returns `False` if neither of these are satisfied. Thus, if a graph passes all the conditions, it is definitely Eulerian and Hamiltonian. However, if the function returns false, the graph might still be Hamiltonian (assuming it is Eulerian).*\n",
    "\n",
    "*From the code, we can see that a cycle graph is Eulerian and Hamiltonian, but a (connected) tree graph is not eulerian and likely not Hamiltonian.*"
   ]
  }
 ],
 "metadata": {
  "kernelspec": {
   "display_name": "Python 3 (ipykernel)",
   "language": "python",
   "name": "python3"
  },
  "language_info": {
   "codemirror_mode": {
    "name": "ipython",
    "version": 3
   },
   "file_extension": ".py",
   "mimetype": "text/x-python",
   "name": "python",
   "nbconvert_exporter": "python",
   "pygments_lexer": "ipython3",
   "version": "3.11.8"
  },
  "toc": {
   "base_numbering": 1,
   "nav_menu": {},
   "number_sections": false,
   "sideBar": true,
   "skip_h1_title": false,
   "title_cell": "Table of Contents",
   "title_sidebar": "Contents",
   "toc_cell": false,
   "toc_position": {
    "height": "calc(100% - 180px)",
    "left": "10px",
    "top": "150px",
    "width": "165px"
   },
   "toc_section_display": true,
   "toc_window_display": false
  },
  "varInspector": {
   "cols": {
    "lenName": 16,
    "lenType": 16,
    "lenVar": 40
   },
   "kernels_config": {
    "python": {
     "delete_cmd_postfix": "",
     "delete_cmd_prefix": "del ",
     "library": "var_list.py",
     "varRefreshCmd": "print(var_dic_list())"
    },
    "r": {
     "delete_cmd_postfix": ") ",
     "delete_cmd_prefix": "rm(",
     "library": "var_list.r",
     "varRefreshCmd": "cat(var_dic_list()) "
    }
   },
   "types_to_exclude": [
    "module",
    "function",
    "builtin_function_or_method",
    "instance",
    "_Feature"
   ],
   "window_display": false
  }
 },
 "nbformat": 4,
 "nbformat_minor": 5
}
